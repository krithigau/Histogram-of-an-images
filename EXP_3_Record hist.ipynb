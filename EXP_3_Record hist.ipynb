{
 "cells": [
  {
   "cell_type": "code",
   "execution_count": null,
   "id": "f066ceda-4f31-4820-9204-8dc51bb0cb0d",
   "metadata": {},
   "outputs": [],
   "source": [
    "import cv2\n",
    "import matplotlib.pyplot as plt\n",
    "gray_image = cv2.imread(\"MODEL.png\")\n",
    "color_image = cv2.imread(\"MODEL_2.png\",-1)\n",
    "cv2.imshow(\"Gray Image\",gray_image)\n",
    "cv2.imshow(\"Colour Image\",color_image)\n",
    "cv2.waitKey(0)\n",
    "cv2.destroyAllWindows()\n"
   ]
  },
  {
   "cell_type": "code",
   "execution_count": null,
   "id": "d5c7cdf3-a941-4adc-bafa-5b9255543203",
   "metadata": {},
   "outputs": [],
   "source": [
    "import numpy as np\n",
    "Gray_image = cv2.imread(\"MODEL.png\")\n",
    "Color_image = cv2.imread(\"MODEL_2.jpg\")\n",
    "import matplotlib.pyplot as plt\n",
    "gray_hist = cv2.calcHist([Gray_image],[0],None,[256],[0,256])\n",
    "color_hist = cv2.calcHist([Color_image],[0],None,[256],[0,256])\n",
    "plt.figure()\n",
    "plt.imshow(Gray_image)\n",
    "plt.show()\n",
    "plt.title(\"Histogram\")\n",
    "plt.xlabel(\"Grayscale Value\")\n",
    "plt.ylabel(\"Pixel Count\")\n",
    "plt.stem(gray_hist)\n",
    "plt.show()\n",
    "plt.imshow(Color_image)\n",
    "plt.show()\n",
    "plt.title(\"Histogram of Color Image - Green Channel\")\n",
    "plt.xlabel(\"Intensity Value\")\n",
    "plt.ylabel(\"Pixel Count\")\n",
    "plt.stem(color_hist)\n",
    "plt.show()\n",
    "cv2.waitKey(0)"
   ]
  },
  {
   "cell_type": "code",
   "execution_count": null,
   "id": "e7fc30ad-d3d8-4f0c-a3b8-cdca54c305d6",
   "metadata": {},
   "outputs": [],
   "source": [
    "gray_image = cv2.imread(\"smillepathi.jpg\",0)\n",
    "cv2.imshow('Grey Scale Image',gray_image)\n",
    "equ = cv2.equalizeHist(gray_image)\n",
    "cv2.imshow(\"Equalized Image\",equ)\n",
    "cv2.waitKey(0)\n",
    "cv2.destroyAllWindows()"
   ]
  },
  {
   "cell_type": "code",
   "execution_count": null,
   "id": "4e476db1-eaf8-4843-b710-4b7dba7e879b",
   "metadata": {},
   "outputs": [],
   "source": []
  }
 ],
 "metadata": {
  "kernelspec": {
   "display_name": "Python 3 (ipykernel)",
   "language": "python",
   "name": "python3"
  },
  "language_info": {
   "codemirror_mode": {
    "name": "ipython",
    "version": 3
   },
   "file_extension": ".py",
   "mimetype": "text/x-python",
   "name": "python",
   "nbconvert_exporter": "python",
   "pygments_lexer": "ipython3",
   "version": "3.11.11"
  }
 },
 "nbformat": 4,
 "nbformat_minor": 5
}
